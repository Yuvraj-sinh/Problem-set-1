{
 "cells": [
  {
   "cell_type": "markdown",
   "id": "2b91aef4",
   "metadata": {},
   "source": [
    "# peoblem set 01\n",
    "\n",
    "\n",
    "\n",
    "\n",
    "\n",
    "\n",
    "\n"
   ]
  },
  {
   "cell_type": "markdown",
   "id": "4ef7ae91",
   "metadata": {},
   "source": [
    "# Question 1"
   ]
  },
  {
   "cell_type": "code",
   "execution_count": 34,
   "id": "80a6f40a",
   "metadata": {},
   "outputs": [
    {
     "name": "stdout",
     "output_type": "stream",
     "text": [
      "<class 'int'>\n",
      "<class 'float'>\n",
      "<class 'bool'>\n",
      "<class 'str'>\n",
      "<class 'int'>\n",
      "<class 'str'>\n",
      "<class 'str'>\n",
      "<class 'float'>\n",
      "<class 'int'>\n",
      "<class 'set'>\n",
      "<class 'bool'>\n",
      "<class 'float'>\n"
     ]
    }
   ],
   "source": [
    "#Que 1\n",
    "print(type(5))  \n",
    "print(type(5.0))  \n",
    "print(type(5 > 1))  \n",
    "print(type('5'))\n",
    "print(type(5 * 2))  \n",
    "print(type('5' * 2))\n",
    "print(type('5' + '2')) \n",
    "print(type(5 / 2)) \n",
    "print(type(5 % 2))  \n",
    "print(type({5, 2, 1}))  \n",
    "print(type(5 == 3))\n",
    "import math\n",
    "print(type(math.pi)) "
   ]
  },
  {
   "cell_type": "markdown",
   "id": "6fd88fb8",
   "metadata": {},
   "source": [
    "# Question 2"
   ]
  },
  {
   "cell_type": "code",
   "execution_count": 35,
   "id": "a20bec11",
   "metadata": {},
   "outputs": [
    {
     "name": "stdout",
     "output_type": "stream",
     "text": [
      "34\n",
      "True\n"
     ]
    }
   ],
   "source": [
    "#Que 2\n",
    "\n",
    "Word01 = 'Supercalifragilisticexpialidocious'\n",
    "letters = len(Word01)\n",
    "print(letters)\n",
    "substring ='ice'\n",
    "Have = substring in Word01\n",
    "print(Have)\n"
   ]
  },
  {
   "cell_type": "code",
   "execution_count": 17,
   "id": "d2cab723",
   "metadata": {},
   "outputs": [
    {
     "name": "stdout",
     "output_type": "stream",
     "text": [
      "Supercalifragilisticexpialidocious\n"
     ]
    }
   ],
   "source": [
    "counts = ['Supercalifragilisticexpialidocious', 'Honorificabilitudinitatibus', 'Bababadalgharaghtakamminarronnkonn']\n",
    "long_word = max(counts,key=len)\n",
    "print(long_word)\n"
   ]
  },
  {
   "cell_type": "code",
   "execution_count": 24,
   "id": "a946d296",
   "metadata": {},
   "outputs": [
    {
     "name": "stdout",
     "output_type": "stream",
     "text": [
      "composer1: Bartok\n",
      "composer2: Buxtehude\n"
     ]
    }
   ],
   "source": [
    "Composer = ['Berlioz', 'Borodin', 'Brian', 'Bartok', 'Bellini', 'Buxtehude', 'Bernstein']\n",
    "F_Composer = min(Composer)\n",
    "S_Composer = max(Composer)\n",
    "print('composer1:', F_Composer)\n",
    "print('composer2:', S_Composer)\n"
   ]
  },
  {
   "cell_type": "markdown",
   "id": "1e3598ff",
   "metadata": {},
   "source": [
    "# Question 3"
   ]
  },
  {
   "cell_type": "code",
   "execution_count": 25,
   "id": "3949f7e0",
   "metadata": {},
   "outputs": [],
   "source": [
    "#Que 3\n",
    "\n",
    "import math\n",
    "\n",
    "def TriangleArea(a, b, c):\n",
    "    s = (a + b + c) / 2\n",
    "    Area = math.sqrt(s * (s - a) * (s - b) * (s - c))\n",
    "    \n",
    "    return Area"
   ]
  },
  {
   "cell_type": "code",
   "execution_count": 27,
   "id": "7e959ab2",
   "metadata": {},
   "outputs": [
    {
     "data": {
      "text/plain": [
       "1.7320508075688772"
      ]
     },
     "execution_count": 27,
     "metadata": {},
     "output_type": "execute_result"
    }
   ],
   "source": [
    "TriangleArea(2,2,2)\n"
   ]
  },
  {
   "cell_type": "markdown",
   "id": "a2558cc7",
   "metadata": {},
   "source": [
    "# Question 4"
   ]
  },
  {
   "cell_type": "code",
   "execution_count": 33,
   "id": "65b9f6af",
   "metadata": {},
   "outputs": [
    {
     "name": "stdout",
     "output_type": "stream",
     "text": [
      "Input total number of elements to be stored in the array: 5\n",
      "Element - 0: 25\n",
      "Element - 1: 47\n",
      "Element - 2: 42\n",
      "Element - 3: 56\n",
      "Element - 4: 32\n",
      "Odd numbers: [25, 47]\n",
      "Even numbers: [42, 56, 32]\n"
     ]
    }
   ],
   "source": [
    "#Que 4\n",
    "Num_element = int(input(\"Input total number of elements to be stored in the array: \"))\n",
    "\n",
    "\n",
    "Element = []\n",
    "for i in range(Num_element):\n",
    "    element = int(input(\"Element - {}: \".format(i)))\n",
    "    Element.append(element)\n",
    "\n",
    "odd_numbers = []\n",
    "even_numbers = []\n",
    "\n",
    "for element in Element:\n",
    "    if element % 2 == 0:\n",
    "        even_numbers.append(element)\n",
    "    else:\n",
    "        odd_numbers.append(element)\n",
    "\n",
    "\n",
    "print(\"Odd numbers:\", odd_numbers)\n",
    "print(\"Even numbers:\", even_numbers)\n"
   ]
  },
  {
   "cell_type": "markdown",
   "id": "699ff167",
   "metadata": {},
   "source": [
    "# Question 5"
   ]
  },
  {
   "cell_type": "code",
   "execution_count": 34,
   "id": "7998c14e",
   "metadata": {},
   "outputs": [],
   "source": [
    "#Que 5\n",
    "\n",
    "\n",
    "def Inside(X, Y, X1, Y1, X2, Y2):\n",
    "    if X >= X1 and X <= X2 and Y >= Y1 and Y <= Y2:\n",
    "        return True\n",
    "    else:\n",
    "        return False"
   ]
  },
  {
   "cell_type": "code",
   "execution_count": 36,
   "id": "eff6834a",
   "metadata": {},
   "outputs": [
    {
     "data": {
      "text/plain": [
       "True"
      ]
     },
     "execution_count": 36,
     "metadata": {},
     "output_type": "execute_result"
    }
   ],
   "source": [
    "Inside(1,1,0,0,2,3)"
   ]
  },
  {
   "cell_type": "markdown",
   "id": "982a35ef",
   "metadata": {},
   "source": [
    "# Question 6\n"
   ]
  },
  {
   "cell_type": "code",
   "execution_count": 3,
   "id": "8bf47637",
   "metadata": {},
   "outputs": [
    {
     "name": "stdout",
     "output_type": "stream",
     "text": [
      "appyhay\n",
      "encilpay\n",
      "enterway\n",
      "otherway\n",
      "ellowyay\n",
      "appleway\n"
     ]
    }
   ],
   "source": [
    "def PIG(WORD):\n",
    "    VLS = ['a', 'e', 'i', 'o', 'u']\n",
    "    WORD = WORD.lower()  # Converting text to lowercase\n",
    "    \n",
    "    if WORD[0] in VLS:  # if word starts with vowel it adds way inthe end\n",
    "        return WORD + 'way'\n",
    "    else:  \n",
    "        PreFix = ''  \n",
    "        for i in range(len(WORD)):\n",
    "            if WORD[i] not in VLS:\n",
    "                PreFix += WORD[i]\n",
    "            else:\n",
    "                break\n",
    "        return WORD[i:] + PreFix + 'ay'\n",
    "print( PIG('happy'))    \n",
    "print(PIG('Pencil'))  \n",
    "print(PIG('Enter'))    \n",
    "print(PIG('Other'))    \n",
    "print(PIG('Yellow'))   \n",
    "print(PIG('Apple'))   "
   ]
  },
  {
   "cell_type": "markdown",
   "id": "76ab240a",
   "metadata": {},
   "source": [
    "# Quetion 7"
   ]
  },
  {
   "cell_type": "code",
   "execution_count": null,
   "id": "4414a8bb",
   "metadata": {},
   "outputs": [],
   "source": []
  },
  {
   "cell_type": "code",
   "execution_count": 7,
   "id": "0544cd80",
   "metadata": {},
   "outputs": [
    {
     "name": "stdout",
     "output_type": "stream",
     "text": [
      "Number of patients with blood type AB: 13\n",
      "Number of patients with blood type B: 1\n",
      "Number of patients with blood type O: 15\n",
      "Number of patients with blood type A: 15\n"
     ]
    }
   ],
   "source": [
    "from collections import Counter\n",
    "\n",
    "def BLD_count(FILE_NAME):\n",
    "    try:\n",
    "        with open(FILE_NAME, 'r') as file:\n",
    "            BLOOD_TY = file.read().split()\n",
    "            counts = Counter(BLOOD_TY)\n",
    "\n",
    "        for BLOOD_TY, count in counts.items():\n",
    "            print(f\"Number of patients with blood type {BLOOD_TY}: {count}\")\n",
    "\n",
    "    except FileNotFoundError:\n",
    "        print(\"File not found.\")\n",
    "\n",
    "#EXAMPLES \n",
    "BLD_count(\"bloodtype1.txt\")"
   ]
  },
  {
   "cell_type": "markdown",
   "id": "01a987ad",
   "metadata": {},
   "source": [
    "# Question 8"
   ]
  },
  {
   "cell_type": "code",
   "execution_count": null,
   "id": "78c37a34",
   "metadata": {},
   "outputs": [],
   "source": []
  },
  {
   "cell_type": "code",
   "execution_count": 14,
   "id": "854122cd",
   "metadata": {},
   "outputs": [
    {
     "name": "stdout",
     "output_type": "stream",
     "text": [
      "122.96544\n",
      "1.241401\n",
      "14.826900000000002\n",
      "2.3323400000000003\n",
      "155.50988999999998\n",
      "12.702069999999999\n",
      "1.77643\n"
     ]
    }
   ],
   "source": [
    "def curconv(currency, amount):\n",
    "    try:\n",
    "        with open('currencies.txt', 'r') as file:\n",
    "            CN_rate = {}\n",
    "\n",
    "            for line in file:\n",
    "                Cr_cd, rate, *currency_name = line.split()\n",
    "                CN_rate[Cr_cd] = float(rate)\n",
    "\n",
    "        if currency in CN_rate:\n",
    "            USD_value = amount * CN_rate[currency]\n",
    "            return USD_value\n",
    "        else:\n",
    "            print(f\"Currency '{currency}' not found.\")\n",
    "            return None\n",
    "\n",
    "    except FileNotFoundError:\n",
    "        print(\"Currency conversion data file not found.\")\n",
    "        return None\n",
    "\n",
    "#EXAMPLES\n",
    "print(curconv('EUR', 100))  \n",
    "print(curconv('JPY', 100)) \n",
    "print(curconv('SEK', 100))\n",
    "print(curconv('PHP', 100))\n",
    "print(curconv('GBP', 100))\n",
    "print(curconv('HKD', 100))\n",
    "print(curconv('INR', 100))"
   ]
  },
  {
   "cell_type": "markdown",
   "id": "778f2b86",
   "metadata": {},
   "source": [
    "# Question 9"
   ]
  },
  {
   "cell_type": "code",
   "execution_count": 33,
   "id": "1c8602f4",
   "metadata": {},
   "outputs": [
    {
     "name": "stdout",
     "output_type": "stream",
     "text": [
      "Exception: unsupported operand type(s) for +: 'int' and 'str'\n"
     ]
    }
   ],
   "source": [
    "# Trying to add incompatible variables, as in adding 6 + ‘a’\n",
    "try:\n",
    "    RE_lt = 6 + 'a'\n",
    "except TypeError as e:\n",
    "    print(f\"Exception: {e}\")"
   ]
  },
  {
   "cell_type": "code",
   "execution_count": 28,
   "id": "c799b591",
   "metadata": {},
   "outputs": [
    {
     "name": "stdout",
     "output_type": "stream",
     "text": [
      "ERROR FOUND: list index out of range\n"
     ]
    }
   ],
   "source": [
    "# Referring to the 12th item of a list that has only 10 items\n",
    "\n",
    "NAME = ['Y','U','V','R','A','J','S','I','N','H']\n",
    "try:\n",
    "    COUNT = NAME[12]\n",
    "    print(COUNT)\n",
    "except IndexError as e:\n",
    "    print(f\"ERROR FOUND: {e}\")\n"
   ]
  },
  {
   "cell_type": "code",
   "execution_count": 16,
   "id": "79a71136",
   "metadata": {},
   "outputs": [
    {
     "name": "stdout",
     "output_type": "stream",
     "text": [
      "Exception: math domain error\n"
     ]
    }
   ],
   "source": [
    "# Using a value that is out of range for a function’s input, such as calling math.sqrt(-1.0) \n",
    "import math\n",
    "\n",
    "try:\n",
    "    RESULT = math.sqrt(-1.0)\n",
    "except ValueError as e:\n",
    "    print(f\"ERROR FOUND : {e}\")"
   ]
  },
  {
   "cell_type": "code",
   "execution_count": 29,
   "id": "6fed6717",
   "metadata": {},
   "outputs": [
    {
     "name": "stdout",
     "output_type": "stream",
     "text": [
      "['Y', 'U', 'V', 'R', 'A', 'J', 'S', 'I', 'N', 'H']\n"
     ]
    }
   ],
   "source": [
    "# Using an undeclared variable, such as print(x) when x has not been defined\n",
    "try:\n",
    "    print(NAME)\n",
    "except NameError as e:\n",
    "    print(f\"ERROR FOUND: {e}\")"
   ]
  },
  {
   "cell_type": "code",
   "execution_count": 30,
   "id": "1c2dff55",
   "metadata": {},
   "outputs": [
    {
     "name": "stdout",
     "output_type": "stream",
     "text": [
      "ERROR FOUND: [Errno 2] No such file or directory: 'data_programming.txt'\n"
     ]
    }
   ],
   "source": [
    " #Trying to open a file that does not exist, such as mistyping the file name or looking in the wrong directory.\n",
    "try:\n",
    "    with open('data_programming.txt', 'r') as file:\n",
    "        content = file.read()\n",
    "except FileNotFoundError as e:\n",
    "    print(f\"ERROR FOUND: {e}\")"
   ]
  },
  {
   "cell_type": "markdown",
   "id": "9baf58fa",
   "metadata": {},
   "source": [
    "# Question 10"
   ]
  },
  {
   "cell_type": "code",
   "execution_count": 24,
   "id": "749a10f8",
   "metadata": {},
   "outputs": [
    {
     "name": "stdout",
     "output_type": "stream",
     "text": [
      "[1, 1, 1, 3, 5, 1, 1, 2, 1, 0, 1, 0, 1, 2, 4, 0, 1, 2, 0, 3, 1, 0, 1, 1, 0, 0]\n",
      "[1, 0, 0, 0, 1, 0, 0, 0, 0, 0, 0, 1, 0, 0, 0, 2, 0, 0, 0, 0, 0, 0, 0, 0, 0, 0]\n",
      "[3, 0, 0, 0, 2, 1, 1, 2, 2, 1, 0, 1, 1, 2, 4, 1, 0, 4, 6, 2, 1, 1, 0, 0, 1, 0]\n"
     ]
    }
   ],
   "source": [
    "def FREQUENCIES(TXT):\n",
    "    LETTER = 'abcdefghijklmnopqrstuvwxyz'\n",
    "    Frequency_di = {}\n",
    "\n",
    "    for char in TXT.lower():\n",
    "        if char in LETTER:\n",
    "            if char in Frequency_di:\n",
    "                Frequency_di[char] += 1\n",
    "            else:\n",
    "                Frequency_di[char] = 1\n",
    "\n",
    "    frequency_list = [Frequency_di.get(LETTER, 0) for LETTER in LETTER]\n",
    "    return frequency_list\n",
    "\n",
    "#EXAMPLES\n",
    "print(FREQUENCIES('The quick red fox got bored and went home.'))\n",
    "print(FREQUENCIES('apple'))\n",
    "print(FREQUENCIES('YUVRAJSINH GOHEL IS NOT SMART AS PROFESSOR '))"
   ]
  },
  {
   "cell_type": "code",
   "execution_count": null,
   "id": "791558ea",
   "metadata": {},
   "outputs": [],
   "source": []
  },
  {
   "cell_type": "code",
   "execution_count": null,
   "id": "1ff64e1e",
   "metadata": {},
   "outputs": [],
   "source": []
  }
 ],
 "metadata": {
  "kernelspec": {
   "display_name": "Python 3 (ipykernel)",
   "language": "python",
   "name": "python3"
  },
  "language_info": {
   "codemirror_mode": {
    "name": "ipython",
    "version": 3
   },
   "file_extension": ".py",
   "mimetype": "text/x-python",
   "name": "python",
   "nbconvert_exporter": "python",
   "pygments_lexer": "ipython3",
   "version": "3.10.9"
  }
 },
 "nbformat": 4,
 "nbformat_minor": 5
}
